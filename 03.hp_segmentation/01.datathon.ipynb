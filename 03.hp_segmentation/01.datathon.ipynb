{
 "cells": [
  {
   "cell_type": "code",
   "execution_count": 1,
   "metadata": {},
   "outputs": [
    {
     "name": "stdout",
     "output_type": "stream",
     "text": [
      "Thu Apr 11 10:36:39 2024       \n",
      "+-----------------------------------------------------------------------------+\n",
      "| NVIDIA-SMI 470.103.01   Driver Version: 470.103.01   CUDA Version: 11.4     |\n",
      "|-------------------------------+----------------------+----------------------+\n",
      "| GPU  Name        Persistence-M| Bus-Id        Disp.A | Volatile Uncorr. ECC |\n",
      "| Fan  Temp  Perf  Pwr:Usage/Cap|         Memory-Usage | GPU-Util  Compute M. |\n",
      "|                               |                      |               MIG M. |\n",
      "|===============================+======================+======================|\n",
      "|   0  Tesla K80           Off  | 00000000:05:00.0 Off |                    0 |\n",
      "| N/A   32C    P8    26W / 149W |     29MiB / 11441MiB |      0%      Default |\n",
      "|                               |                      |                  N/A |\n",
      "+-------------------------------+----------------------+----------------------+\n",
      "|   1  Tesla K80           Off  | 00000000:06:00.0 Off |                    0 |\n",
      "| N/A   27C    P8    30W / 149W |    117MiB / 11441MiB |      0%      Default |\n",
      "|                               |                      |                  N/A |\n",
      "+-------------------------------+----------------------+----------------------+\n",
      "                                                                               \n",
      "+-----------------------------------------------------------------------------+\n",
      "| Processes:                                                                  |\n",
      "|  GPU   GI   CI        PID   Type   Process name                  GPU Memory |\n",
      "|        ID   ID                                                   Usage      |\n",
      "|=============================================================================|\n",
      "|    0   N/A  N/A     11086      G   /usr/bin/X                         18MiB |\n",
      "|    0   N/A  N/A     11142      G   /usr/bin/gnome-shell                5MiB |\n",
      "|    1   N/A  N/A      4847      G   ...inux_a64/code/bin/ABQcaeK        2MiB |\n",
      "|    1   N/A  N/A     11086      G   /usr/bin/X                         50MiB |\n",
      "|    1   N/A  N/A     19175      G   ...inux_a64/code/bin/ABQcaeK        7MiB |\n",
      "|    1   N/A  N/A     26917      G   ovito                              49MiB |\n",
      "+-----------------------------------------------------------------------------+\n"
     ]
    }
   ],
   "source": [
    "!nvidia-smi"
   ]
  },
  {
   "cell_type": "code",
   "execution_count": 2,
   "metadata": {},
   "outputs": [],
   "source": [
    "import os\n",
    "import nibabel as nib\n",
    "import numpy as np \n",
    "from collections import OrderedDict\n",
    "import json\n",
    "from pathlib import Path\n",
    "\n",
    "from utils.helper import convert_nrrd_to_nifti, create_folder, plot_all_slices, plot_histogram, generate_binary_image, adjust_affine_for_spacing_and_origin, save_binary_image_with_adjusted_origin, make_if_dont_exist\n",
    "from utils.metrics import dice_score_per_class, hausdorff_distance_per_class, ravd_per_class"
   ]
  },
  {
   "cell_type": "code",
   "execution_count": 3,
   "metadata": {},
   "outputs": [],
   "source": [
    "# define dataset path\n",
    "BASE_PATH = Path('./').resolve()\n",
    "DATA_PATH = BASE_PATH / 'dataset'\n",
    "\n",
    "project_name = 'HPC' #change here for different task name\n",
    "task_name = 'Dataset003_' + project_name \n",
    "\n",
    "TRAINING_DATASET_PATH = BASE_PATH / 'dataset/nnUNet_raw_data' / task_name / 'imagesTr'\n",
    "GT_TRAINING_DATASET_PATH = BASE_PATH / 'dataset/nnUNet_raw_data' / task_name / 'labelsTr'\n",
    "TEST_DATASET_PATH = BASE_PATH / 'dataset/nnUNet_raw_data' / task_name / 'imagesTs'\n",
    "GT_TEST_DATASET_PATH = BASE_PATH / 'dataset/nnUNet_raw_data' / task_name / 'labelsTs'\n",
    "PREDICTION_RESULTS_PATH  = BASE_PATH / 'dataset/nnUNet_Prediction_Results' / task_name\n",
    "TASK_PATH = BASE_PATH / 'dataset/nnUNet_raw_data' / task_name \n",
    "\n",
    "# setup environment variables\n",
    "nnUNet_raw = BASE_PATH / 'dataset/nnUNet_raw_data'\n",
    "nnUNet_preprocessed = BASE_PATH / 'dataset/nnUNet_preprocessed'\n",
    "nnUNet_results = BASE_PATH / 'dataset/nnUNet_results'"
   ]
  },
  {
   "cell_type": "code",
   "execution_count": 12,
   "metadata": {},
   "outputs": [
    {
     "name": "stdout",
     "output_type": "stream",
     "text": [
      "train image files: 9\n",
      "train label files: 9\n",
      "Matches: 0\n"
     ]
    }
   ],
   "source": [
    "train_files = os.listdir(TRAINING_DATASET_PATH)\n",
    "label_files = os.listdir(GT_TRAINING_DATASET_PATH)\n",
    "print(\"train image files:\",len(train_files))\n",
    "print(\"train label files:\",len(label_files))\n",
    "print(\"Matches:\",len(set(train_files).intersection(set(label_files))))\n"
   ]
  },
  {
   "cell_type": "code",
   "execution_count": 4,
   "metadata": {},
   "outputs": [
    {
     "name": "stdout",
     "output_type": "stream",
     "text": [
      "env: nnUNet_raw=/beegfs/data/work/shared/ngmm/scripts/Taiabur/ngmm-nnunet/dataset/nnUNet_raw_data\n",
      "env: nnUNet_preprocessed=/beegfs/data/work/shared/ngmm/scripts/Taiabur/ngmm-nnunet/dataset/nnUNet_preprocessed\n",
      "env: nnUNet_results=/beegfs/data/work/shared/ngmm/scripts/Taiabur/ngmm-nnunet/dataset/nnUNet_results\n"
     ]
    }
   ],
   "source": [
    "%env nnUNet_raw=$nnUNet_raw\n",
    "%env nnUNet_preprocessed=$nnUNet_preprocessed\n",
    "%env nnUNet_results=$nnUNet_results"
   ]
  },
  {
   "cell_type": "code",
   "execution_count": 22,
   "metadata": {},
   "outputs": [
    {
     "name": "stdout",
     "output_type": "stream",
     "text": [
      "Fingerprint extraction...\n",
      "Dataset003_HPC\n",
      "Using <class 'nnunetv2.imageio.simpleitk_reader_writer.SimpleITKIO'> as reader/writer\n",
      "\n",
      "####################\n",
      "verify_dataset_integrity Done. \n",
      "If you didn't see any error messages then your dataset is most likely OK!\n",
      "####################\n",
      "\n",
      "Experiment planning...\n",
      "Attempting to find 3d_lowres config. \n",
      "Current spacing: [1.03 1.03 1.03]. \n",
      "Current patch size: (112, 224, 96). \n",
      "Current median shape: [401.94174757 818.44660194 341.74757282]\n",
      "Attempting to find 3d_lowres config. \n",
      "Current spacing: [1.0609 1.0609 1.0609]. \n",
      "Current patch size: (112, 224, 96). \n",
      "Current median shape: [390.23470638 794.6083514  331.79376002]\n",
      "Attempting to find 3d_lowres config. \n",
      "Current spacing: [1.092727 1.092727 1.092727]. \n",
      "Current patch size: (112, 224, 96). \n",
      "Current median shape: [378.86864697 771.46441883 322.12986409]\n",
      "Attempting to find 3d_lowres config. \n",
      "Current spacing: [1.12550881 1.12550881 1.12550881]. \n",
      "Current patch size: (112, 224, 96). \n",
      "Current median shape: [367.83363784 748.99458139 312.74744087]\n",
      "Attempting to find 3d_lowres config. \n",
      "Current spacing: [1.15927407 1.15927407 1.15927407]. \n",
      "Current patch size: (112, 224, 96). \n",
      "Current median shape: [357.12003674 727.17920524 303.6382921 ]\n",
      "Attempting to find 3d_lowres config. \n",
      "Current spacing: [1.1940523 1.1940523 1.1940523]. \n",
      "Current patch size: (112, 224, 96). \n",
      "Current median shape: [346.71848227 705.99922838 294.79445835]\n",
      "Attempting to find 3d_lowres config. \n",
      "Current spacing: [1.22987387 1.22987387 1.22987387]. \n",
      "Current patch size: (112, 224, 96). \n",
      "Current median shape: [336.6198857  685.43614406 286.20821199]\n",
      "Attempting to find 3d_lowres config. \n",
      "Current spacing: [1.26677008 1.26677008 1.26677008]. \n",
      "Current patch size: (112, 224, 96). \n",
      "Current median shape: [326.81542301 665.47198453 277.87205048]\n",
      "Attempting to find 3d_lowres config. \n",
      "Current spacing: [1.30477318 1.30477318 1.30477318]. \n",
      "Current patch size: (112, 224, 96). \n",
      "Current median shape: [317.29652719 646.08930537 269.77868978]\n",
      "Attempting to find 3d_lowres config. \n",
      "Current spacing: [1.34391638 1.34391638 1.34391638]. \n",
      "Current patch size: (112, 224, 96). \n",
      "Current median shape: [308.05488077 627.27117026 261.92105804]\n",
      "Attempting to find 3d_lowres config. \n",
      "Current spacing: [1.38423387 1.38423387 1.38423387]. \n",
      "Current patch size: (112, 224, 96). \n",
      "Current median shape: [299.08240851 609.00113617 254.29228936]\n",
      "Attempting to find 3d_lowres config. \n",
      "Current spacing: [1.42576089 1.42576089 1.42576089]. \n",
      "Current patch size: (112, 224, 96). \n",
      "Current median shape: [290.3712704  591.263239   246.88571783]\n",
      "Attempting to find 3d_lowres config. \n",
      "Current spacing: [1.46853371 1.46853371 1.46853371]. \n",
      "Current patch size: (112, 224, 96). \n",
      "Current median shape: [281.91385476 574.04197961 239.69487168]\n",
      "Attempting to find 3d_lowres config. \n",
      "Current spacing: [1.51258972 1.51258972 1.51258972]. \n",
      "Current patch size: (112, 224, 96). \n",
      "Current median shape: [273.70277161 557.32231031 232.71346765]\n",
      "Attempting to find 3d_lowres config. \n",
      "Current spacing: [1.55796742 1.55796742 1.55796742]. \n",
      "Current patch size: (112, 224, 96). \n",
      "Current median shape: [265.73084622 541.08962166 225.93540548]\n",
      "Attempting to find 3d_lowres config. \n",
      "Current spacing: [1.60470644 1.60470644 1.60470644]. \n",
      "Current patch size: (112, 224, 96). \n",
      "Current median shape: [257.99111284 525.32972976 219.35476261]\n",
      "Attempting to find 3d_lowres config. \n",
      "Current spacing: [1.65284763 1.65284763 1.65284763]. \n",
      "Current patch size: (112, 224, 96). \n",
      "Current median shape: [250.47680858 510.02886385 212.96578894]\n",
      "Attempting to find 3d_lowres config. \n",
      "Current spacing: [1.70243306 1.70243306 1.70243306]. \n",
      "Current patch size: (112, 224, 96). \n",
      "Current median shape: [243.18136755 495.17365422 206.76290188]\n",
      "Attempting to find 3d_lowres config. \n",
      "Current spacing: [1.75350605 1.75350605 1.75350605]. \n",
      "Current patch size: (112, 224, 96). \n",
      "Current median shape: [236.0984151  480.7511206  200.74068144]\n",
      "Attempting to find 3d_lowres config. \n",
      "Current spacing: [1.80611123 1.80611123 1.80611123]. \n",
      "Current patch size: (112, 224, 96). \n",
      "Current median shape: [229.22176223 466.74866078 194.89386547]\n",
      "Attempting to find 3d_lowres config. \n",
      "Current spacing: [1.86029457 1.86029457 1.86029457]. \n",
      "Current patch size: (112, 224, 96). \n",
      "Current median shape: [222.54540023 453.15403959 189.21734512]\n",
      "Attempting to find 3d_lowres config. \n",
      "Current spacing: [1.91610341 1.91610341 1.91610341]. \n",
      "Current patch size: (112, 224, 96). \n",
      "Current median shape: [216.06349537 439.95537824 183.70616031]\n",
      "Attempting to find 3d_lowres config. \n",
      "Current spacing: [1.97358651 1.97358651 1.97358651]. \n",
      "Current patch size: (112, 224, 96). \n",
      "Current median shape: [209.77038385 427.14114393 178.35549545]\n",
      "Attempting to find 3d_lowres config. \n",
      "Current spacing: [2.03279411 2.03279411 2.03279411]. \n",
      "Current patch size: (112, 224, 96). \n",
      "Current median shape: [203.66056684 414.70013973 173.16067519]\n",
      "Attempting to find 3d_lowres config. \n",
      "Current spacing: [2.09377793 2.09377793 2.09377793]. \n",
      "Current patch size: (112, 224, 96). \n",
      "Current median shape: [197.72870567 402.62149489 168.11716038]\n",
      "Attempting to find 3d_lowres config. \n",
      "Current spacing: [2.15659127 2.15659127 2.15659127]. \n",
      "Current patch size: (112, 224, 96). \n",
      "Current median shape: [191.96961716 390.89465523 163.22054406]\n",
      "Attempting to find 3d_lowres config. \n",
      "Current spacing: [2.22128901 2.22128901 2.22128901]. \n",
      "Current patch size: (112, 224, 96). \n",
      "Current median shape: [186.37826909 379.50937401 158.46654763]\n",
      "Attempting to find 3d_lowres config. \n",
      "Current spacing: [2.28792768 2.28792768 2.28792768]. \n",
      "Current patch size: (112, 224, 96). \n",
      "Current median shape: [180.94977581 368.45570292 153.85101712]\n",
      "Attempting to find 3d_lowres config. \n",
      "Current spacing: [2.35656551 2.35656551 2.35656551]. \n",
      "Current patch size: (112, 224, 96). \n",
      "Current median shape: [175.67939399 357.72398342 149.36991953]\n",
      "2D U-Net configuration:\n",
      "{'data_identifier': 'nnUNetPlans_2d', 'preprocessor_name': 'DefaultPreprocessor', 'batch_size': 9, 'patch_size': (896, 384), 'median_image_size_in_voxels': array([843., 352.]), 'spacing': array([1., 1.]), 'normalization_schemes': ['ZScoreNormalization'], 'use_mask_for_norm': [False], 'resampling_fn_data': 'resample_data_or_seg_to_shape', 'resampling_fn_seg': 'resample_data_or_seg_to_shape', 'resampling_fn_data_kwargs': {'is_seg': False, 'order': 3, 'order_z': 0, 'force_separate_z': None}, 'resampling_fn_seg_kwargs': {'is_seg': True, 'order': 1, 'order_z': 0, 'force_separate_z': None}, 'resampling_fn_probabilities': 'resample_data_or_seg_to_shape', 'resampling_fn_probabilities_kwargs': {'is_seg': False, 'order': 1, 'order_z': 0, 'force_separate_z': None}, 'architecture': {'network_class_name': 'dynamic_network_architectures.architectures.unet.PlainConvUNet', 'arch_kwargs': {'n_stages': 8, 'features_per_stage': (32, 64, 128, 256, 512, 512, 512, 512), 'conv_op': 'torch.nn.modules.conv.Conv2d', 'kernel_sizes': ((3, 3), (3, 3), (3, 3), (3, 3), (3, 3), (3, 3), (3, 3), (3, 3)), 'strides': ((1, 1), (2, 2), (2, 2), (2, 2), (2, 2), (2, 2), (2, 2), (2, 1)), 'n_conv_per_stage': (2, 2, 2, 2, 2, 2, 2, 2), 'n_conv_per_stage_decoder': (2, 2, 2, 2, 2, 2, 2), 'conv_bias': True, 'norm_op': 'torch.nn.modules.instancenorm.InstanceNorm2d', 'norm_op_kwargs': {'eps': 1e-05, 'affine': True}, 'dropout_op': None, 'dropout_op_kwargs': None, 'nonlin': 'torch.nn.LeakyReLU', 'nonlin_kwargs': {'inplace': True}}, '_kw_requires_import': ('conv_op', 'norm_op', 'dropout_op', 'nonlin')}, 'batch_dice': True}\n",
      "\n",
      "Using <class 'nnunetv2.imageio.simpleitk_reader_writer.SimpleITKIO'> as reader/writer\n",
      "3D lowres U-Net configuration:\n",
      "{'data_identifier': 'nnUNetPlans_3d_lowres', 'preprocessor_name': 'DefaultPreprocessor', 'batch_size': 2, 'patch_size': (112, 224, 96), 'median_image_size_in_voxels': (176, 358, 149), 'spacing': array([2.35656551, 2.35656551, 2.35656551]), 'normalization_schemes': ['ZScoreNormalization'], 'use_mask_for_norm': [False], 'resampling_fn_data': 'resample_data_or_seg_to_shape', 'resampling_fn_seg': 'resample_data_or_seg_to_shape', 'resampling_fn_data_kwargs': {'is_seg': False, 'order': 3, 'order_z': 0, 'force_separate_z': None}, 'resampling_fn_seg_kwargs': {'is_seg': True, 'order': 1, 'order_z': 0, 'force_separate_z': None}, 'resampling_fn_probabilities': 'resample_data_or_seg_to_shape', 'resampling_fn_probabilities_kwargs': {'is_seg': False, 'order': 1, 'order_z': 0, 'force_separate_z': None}, 'architecture': {'network_class_name': 'dynamic_network_architectures.architectures.unet.PlainConvUNet', 'arch_kwargs': {'n_stages': 6, 'features_per_stage': (32, 64, 128, 256, 320, 320), 'conv_op': 'torch.nn.modules.conv.Conv3d', 'kernel_sizes': ((3, 3, 3), (3, 3, 3), (3, 3, 3), (3, 3, 3), (3, 3, 3), (3, 3, 3)), 'strides': ((1, 1, 1), (2, 2, 2), (2, 2, 2), (2, 2, 2), (2, 2, 2), (1, 2, 1)), 'n_conv_per_stage': (2, 2, 2, 2, 2, 2), 'n_conv_per_stage_decoder': (2, 2, 2, 2, 2), 'conv_bias': True, 'norm_op': 'torch.nn.modules.instancenorm.InstanceNorm3d', 'norm_op_kwargs': {'eps': 1e-05, 'affine': True}, 'dropout_op': None, 'dropout_op_kwargs': None, 'nonlin': 'torch.nn.LeakyReLU', 'nonlin_kwargs': {'inplace': True}}, '_kw_requires_import': ('conv_op', 'norm_op', 'dropout_op', 'nonlin')}, 'batch_dice': False, 'next_stage': '3d_cascade_fullres'}\n",
      "\n",
      "3D fullres U-Net configuration:\n",
      "{'data_identifier': 'nnUNetPlans_3d_fullres', 'preprocessor_name': 'DefaultPreprocessor', 'batch_size': 2, 'patch_size': (112, 224, 96), 'median_image_size_in_voxels': array([414., 843., 352.]), 'spacing': array([1., 1., 1.]), 'normalization_schemes': ['ZScoreNormalization'], 'use_mask_for_norm': [False], 'resampling_fn_data': 'resample_data_or_seg_to_shape', 'resampling_fn_seg': 'resample_data_or_seg_to_shape', 'resampling_fn_data_kwargs': {'is_seg': False, 'order': 3, 'order_z': 0, 'force_separate_z': None}, 'resampling_fn_seg_kwargs': {'is_seg': True, 'order': 1, 'order_z': 0, 'force_separate_z': None}, 'resampling_fn_probabilities': 'resample_data_or_seg_to_shape', 'resampling_fn_probabilities_kwargs': {'is_seg': False, 'order': 1, 'order_z': 0, 'force_separate_z': None}, 'architecture': {'network_class_name': 'dynamic_network_architectures.architectures.unet.PlainConvUNet', 'arch_kwargs': {'n_stages': 6, 'features_per_stage': (32, 64, 128, 256, 320, 320), 'conv_op': 'torch.nn.modules.conv.Conv3d', 'kernel_sizes': ((3, 3, 3), (3, 3, 3), (3, 3, 3), (3, 3, 3), (3, 3, 3), (3, 3, 3)), 'strides': ((1, 1, 1), (2, 2, 2), (2, 2, 2), (2, 2, 2), (2, 2, 2), (1, 2, 1)), 'n_conv_per_stage': (2, 2, 2, 2, 2, 2), 'n_conv_per_stage_decoder': (2, 2, 2, 2, 2), 'conv_bias': True, 'norm_op': 'torch.nn.modules.instancenorm.InstanceNorm3d', 'norm_op_kwargs': {'eps': 1e-05, 'affine': True}, 'dropout_op': None, 'dropout_op_kwargs': None, 'nonlin': 'torch.nn.LeakyReLU', 'nonlin_kwargs': {'inplace': True}}, '_kw_requires_import': ('conv_op', 'norm_op', 'dropout_op', 'nonlin')}, 'batch_dice': True}\n",
      "\n",
      "Plans were saved to /beegfs/data/work/shared/ngmm/scripts/Taiabur/ngmm-nnunet/dataset/nnUNet_preprocessed/Dataset003_HPC/nnUNetPlans.json\n",
      "Preprocessing...\n",
      "Preprocessing dataset Dataset003_HPC\n",
      "Configuration: 2d...\n",
      "100%|█████████████████████████████████████████████| 9/9 [01:11<00:00,  7.95s/it]\n",
      "Configuration: 3d_fullres...\n",
      "100%|█████████████████████████████████████████████| 9/9 [01:59<00:00, 13.33s/it]\n",
      "Configuration: 3d_lowres...\n",
      "100%|█████████████████████████████████████████████| 9/9 [01:03<00:00,  7.04s/it]\n"
     ]
    }
   ],
   "source": [
    "!nnUNetv2_plan_and_preprocess -d 3 --verify_dataset_integrity"
   ]
  },
  {
   "cell_type": "code",
   "execution_count": null,
   "metadata": {},
   "outputs": [],
   "source": [
    "!nnUNetv2_train 3 3d_lowres 0 --npz "
   ]
  },
  {
   "cell_type": "code",
   "execution_count": null,
   "metadata": {},
   "outputs": [],
   "source": [
    "!nnUNetv2_train 3 3d_lowres 1 --npz "
   ]
  },
  {
   "cell_type": "code",
   "execution_count": null,
   "metadata": {},
   "outputs": [],
   "source": [
    "!nnUNetv2_train 3 3d_lowres 2 --npz "
   ]
  },
  {
   "cell_type": "code",
   "execution_count": null,
   "metadata": {},
   "outputs": [],
   "source": [
    "!nnUNetv2_train 3 3d_lowres 3 --npz "
   ]
  },
  {
   "cell_type": "code",
   "execution_count": null,
   "metadata": {},
   "outputs": [],
   "source": [
    "!nnUNetv2_train 3 3d_lowres 4 --npz "
   ]
  },
  {
   "cell_type": "code",
   "execution_count": 5,
   "metadata": {},
   "outputs": [
    {
     "name": "stdout",
     "output_type": "stream",
     "text": [
      "\n",
      "***All results:***\n",
      "nnUNetTrainer__nnUNetPlans__3d_lowres: 0.8974329107317696\n",
      "\n",
      "*Best*: nnUNetTrainer__nnUNetPlans__3d_lowres: 0.8974329107317696\n",
      "\n",
      "***Determining postprocessing for best model/ensemble***\n",
      "Results were improved by removing all but the largest foreground region. Mean dice before: 0.89743 after: 0.89762\n",
      "\n",
      "***Run inference like this:***\n",
      "\n",
      "nnUNetv2_predict -d Dataset003_HPC -i INPUT_FOLDER -o OUTPUT_FOLDER -f  0 1 2 3 4 -tr nnUNetTrainer -c 3d_lowres -p nnUNetPlans\n",
      "\n",
      "***Once inference is completed, run postprocessing like this:***\n",
      "\n",
      "nnUNetv2_apply_postprocessing -i OUTPUT_FOLDER -o OUTPUT_FOLDER_PP -pp_pkl_file /beegfs/data/work/shared/ngmm/scripts/Taiabur/ngmm-nnunet/dataset/nnUNet_results/Dataset003_HPC/nnUNetTrainer__nnUNetPlans__3d_lowres/crossval_results_folds_0_1_2_3_4/postprocessing.pkl -np 8 -plans_json /beegfs/data/work/shared/ngmm/scripts/Taiabur/ngmm-nnunet/dataset/nnUNet_results/Dataset003_HPC/nnUNetTrainer__nnUNetPlans__3d_lowres/crossval_results_folds_0_1_2_3_4/plans.json\n"
     ]
    }
   ],
   "source": [
    "!nnUNetv2_find_best_configuration 3 -c 3d_lowres \n"
   ]
  },
  {
   "cell_type": "markdown",
   "metadata": {},
   "source": [
    "### prediction"
   ]
  },
  {
   "cell_type": "code",
   "execution_count": 6,
   "metadata": {},
   "outputs": [
    {
     "name": "stdout",
     "output_type": "stream",
     "text": [
      "\n",
      "#######################################################################\n",
      "Please cite the following paper when using nnU-Net:\n",
      "Isensee, F., Jaeger, P. F., Kohl, S. A., Petersen, J., & Maier-Hein, K. H. (2021). nnU-Net: a self-configuring method for deep learning-based biomedical image segmentation. Nature methods, 18(2), 203-211.\n",
      "#######################################################################\n",
      "\n",
      "There are 1 cases in the source folder\n",
      "I am process 0 out of 1 (max process ID is 0, we start counting with 0!)\n",
      "There are 1 cases that I would like to predict\n",
      "\n",
      "Predicting NG4127_RCL5:\n",
      "perform_everything_on_device: True\n",
      "100%|███████████████████████████████████████████| 18/18 [03:18<00:00, 11.03s/it]\n",
      "100%|███████████████████████████████████████████| 18/18 [03:09<00:00, 10.52s/it]\n",
      "100%|███████████████████████████████████████████| 18/18 [03:09<00:00, 10.52s/it]\n",
      "100%|███████████████████████████████████████████| 18/18 [03:09<00:00, 10.52s/it]\n",
      "100%|███████████████████████████████████████████| 18/18 [03:09<00:00, 10.53s/it]\n",
      "sending off prediction to background worker for resampling and export\n",
      "done with NG4127_RCL5\n"
     ]
    }
   ],
   "source": [
    "!nnUNetv2_predict -d Dataset003_HPC -i /dataset/nnUNet_test_data -o /dataset/nnUNet_Prediction_Results/Dataset003_HPC -f  0 1 2 3 4 -tr nnUNetTrainer -c 3d_lowres -p nnUNetPlans"
   ]
  },
  {
   "cell_type": "markdown",
   "metadata": {},
   "source": [
    "### post processing"
   ]
  },
  {
   "cell_type": "code",
   "execution_count": 7,
   "metadata": {},
   "outputs": [],
   "source": [
    "!nnUNetv2_apply_postprocessing -i /user1/ngmm/tr855969/Desktop/Taiabur/ngmm-nnunet/dataset/nnUNet_Prediction_Results/Dataset003_HPC -o /user1/ngmm/tr855969/Desktop/Taiabur/ngmm-nnunet/dataset/nnUNet_postprocessed/Dataset003_HPC/3d_lowers -pp_pkl_file /beegfs/data/work/shared/ngmm/scripts/Taiabur/ngmm-nnunet/dataset/nnUNet_results/Dataset003_HPC/nnUNetTrainer__nnUNetPlans__3d_lowres/crossval_results_folds_0_1_2_3_4/postprocessing.pkl -np 8 -plans_json /beegfs/data/work/shared/ngmm/scripts/Taiabur/ngmm-nnunet/dataset/nnUNet_results/Dataset003_HPC/nnUNetTrainer__nnUNetPlans__3d_lowres/crossval_results_folds_0_1_2_3_4/plans.json"
   ]
  },
  {
   "cell_type": "code",
   "execution_count": 4,
   "metadata": {},
   "outputs": [
    {
     "data": {
      "application/vnd.jupyter.widget-view+json": {
       "model_id": "3ec4d8b46c6546e4bb266a2b9386351d",
       "version_major": 2,
       "version_minor": 0
      },
      "text/plain": [
       "interactive(children=(IntSlider(value=201, description='Slice', max=401), Output()), _dom_classes=('widget-int…"
      ]
     },
     "execution_count": 4,
     "metadata": {},
     "output_type": "execute_result"
    }
   ],
   "source": [
    "import nibabel as nib\n",
    "import numpy as np\n",
    "import matplotlib.pyplot as plt\n",
    "import ipywidgets as widgets\n",
    "from IPython.display import display\n",
    "\n",
    "# Load the NIfTI file\n",
    "nifti_path = '/user1/ngmm/tr855969/Desktop/Taiabur/ngmm-nnunet/dataset/nnUNet_raw_data/Dataset002_HCFC1/imagesTr/NG4108_RCL5_0000.nii.gz'\n",
    "# org_nifti_path = '/user1/ngmm/tr855969/Desktop/Taiabur/ngmm-nnunet/dataset/nnUNet_raw_data/Dataset003_HPC/imagesTr/NG4115_RCL5_0000.nii.gz'\n",
    "img = nib.load(nifti_path)\n",
    "data = img.get_fdata()\n",
    "\n",
    "# org_img = nib.load(org_nifti_path).get_fdata()\n",
    "\n",
    "# data = org_img * data\n",
    "# Adjusted function to display a slice and its histogram\n",
    "def display_slice_and_histogram(slice_no):\n",
    "    # Setup the figure and axes for a side-by-side plot: slice and histogram\n",
    "    fig, axes = plt.subplots(2, 2, figsize=(16, 8))\n",
    "    \n",
    "    # Display the slice\n",
    "    ax = axes[0,0]\n",
    "    ax.imshow(data[:, :, slice_no])\n",
    "    ax.axis('off')  # Hide axes ticks\n",
    "    ax.set_title(f'Slice {slice_no}')\n",
    "    \n",
    "    # Display the histogram\n",
    "    ax = axes[0,1]\n",
    "    slice_data = data[:, :, slice_no].ravel()\n",
    "    ax.hist(slice_data, bins=50, color='c', alpha=0.75)\n",
    "    ax.set_title('Pixel Intensity Distribution')\n",
    "    ax.grid(True)\n",
    "\n",
    "    ax = axes[1,0]\n",
    "    ax.imshow(data[:, slice_no,: ].T)\n",
    "    ax.axis('off')  # Hide axes ticks\n",
    "    ax.set_title(f'Slice {slice_no}')\n",
    "\n",
    "    ax = axes[1,1]\n",
    "    ax.imshow(data[slice_no, :,: ])\n",
    "    ax.axis('off')  # Hide axes ticks\n",
    "    ax.set_title(f'Slice {slice_no}')\n",
    "    \n",
    "    plt.tight_layout()\n",
    "    plt.show()\n",
    "\n",
    "# Interactive widget for slice selection\n",
    "slice_slider = widgets.IntSlider(\n",
    "    min=0, \n",
    "    max=data.shape[2] - 1, \n",
    "    step=1, \n",
    "    value=data.shape[2] // 2, \n",
    "    description='Slice'\n",
    ")\n",
    "\n",
    "widgets.interactive(display_slice_and_histogram, slice_no=slice_slider)\n"
   ]
  },
  {
   "cell_type": "code",
   "execution_count": 10,
   "metadata": {},
   "outputs": [
    {
     "name": "stdout",
     "output_type": "stream",
     "text": [
      "Copied '/user1/ngmm/tr855969/Desktop/Taiabur/ngmm-nnunet/dataset/nnUNet_results/Dataset002_HCFC1/nnUNetTrainer__nnUNetPlans__3d_lowres/fold_1/validation/NG4117_RCL5.npz' to '/work/shared/ngmm/3Dimage/DL_test/validation/NG4117_RCL5.npz'\n"
     ]
    },
    {
     "ename": "KeyboardInterrupt",
     "evalue": "",
     "output_type": "error",
     "traceback": [
      "\u001b[0;31m---------------------------------------------------------------------------\u001b[0m",
      "\u001b[0;31mKeyboardInterrupt\u001b[0m                         Traceback (most recent call last)",
      "File \u001b[0;32m~/.conda/envs/env_tf/lib/python3.10/shutil.py:267\u001b[0m, in \u001b[0;36mcopyfile\u001b[0;34m(src, dst, follow_symlinks)\u001b[0m\n\u001b[1;32m    266\u001b[0m \u001b[38;5;28;01mtry\u001b[39;00m:\n\u001b[0;32m--> 267\u001b[0m     \u001b[43m_fastcopy_sendfile\u001b[49m\u001b[43m(\u001b[49m\u001b[43mfsrc\u001b[49m\u001b[43m,\u001b[49m\u001b[43m \u001b[49m\u001b[43mfdst\u001b[49m\u001b[43m)\u001b[49m\n\u001b[1;32m    268\u001b[0m     \u001b[38;5;28;01mreturn\u001b[39;00m dst\n",
      "File \u001b[0;32m~/.conda/envs/env_tf/lib/python3.10/shutil.py:142\u001b[0m, in \u001b[0;36m_fastcopy_sendfile\u001b[0;34m(fsrc, fdst)\u001b[0m\n\u001b[1;32m    141\u001b[0m \u001b[38;5;28;01mtry\u001b[39;00m:\n\u001b[0;32m--> 142\u001b[0m     sent \u001b[38;5;241m=\u001b[39m \u001b[43mos\u001b[49m\u001b[38;5;241;43m.\u001b[39;49m\u001b[43msendfile\u001b[49m\u001b[43m(\u001b[49m\u001b[43moutfd\u001b[49m\u001b[43m,\u001b[49m\u001b[43m \u001b[49m\u001b[43minfd\u001b[49m\u001b[43m,\u001b[49m\u001b[43m \u001b[49m\u001b[43moffset\u001b[49m\u001b[43m,\u001b[49m\u001b[43m \u001b[49m\u001b[43mblocksize\u001b[49m\u001b[43m)\u001b[49m\n\u001b[1;32m    143\u001b[0m \u001b[38;5;28;01mexcept\u001b[39;00m \u001b[38;5;167;01mOSError\u001b[39;00m \u001b[38;5;28;01mas\u001b[39;00m err:\n\u001b[1;32m    144\u001b[0m     \u001b[38;5;66;03m# ...in oder to have a more informative exception.\u001b[39;00m\n",
      "\u001b[0;31mKeyboardInterrupt\u001b[0m: ",
      "\nDuring handling of the above exception, another exception occurred:\n",
      "\u001b[0;31mKeyboardInterrupt\u001b[0m                         Traceback (most recent call last)",
      "Cell \u001b[0;32mIn[10], line 23\u001b[0m\n\u001b[1;32m     20\u001b[0m source_directory \u001b[38;5;241m=\u001b[39m \u001b[38;5;124m'\u001b[39m\u001b[38;5;124m/user1/ngmm/tr855969/Desktop/Taiabur/ngmm-nnunet/dataset/nnUNet_results/Dataset002_HCFC1/nnUNetTrainer__nnUNetPlans__3d_lowres/fold_1/validation/\u001b[39m\u001b[38;5;124m'\u001b[39m\n\u001b[1;32m     21\u001b[0m destination_directory \u001b[38;5;241m=\u001b[39m \u001b[38;5;124m'\u001b[39m\u001b[38;5;124m/work/shared/ngmm/3Dimage/DL_test/validation/\u001b[39m\u001b[38;5;124m'\u001b[39m\n\u001b[0;32m---> 23\u001b[0m \u001b[43mcopy_files\u001b[49m\u001b[43m(\u001b[49m\u001b[43msource_directory\u001b[49m\u001b[43m,\u001b[49m\u001b[43m \u001b[49m\u001b[43mdestination_directory\u001b[49m\u001b[43m)\u001b[49m\n",
      "Cell \u001b[0;32mIn[10], line 16\u001b[0m, in \u001b[0;36mcopy_files\u001b[0;34m(source_dir, destination_dir)\u001b[0m\n\u001b[1;32m     14\u001b[0m source_file \u001b[38;5;241m=\u001b[39m os\u001b[38;5;241m.\u001b[39mpath\u001b[38;5;241m.\u001b[39mjoin(source_dir, file)\n\u001b[1;32m     15\u001b[0m destination_file \u001b[38;5;241m=\u001b[39m os\u001b[38;5;241m.\u001b[39mpath\u001b[38;5;241m.\u001b[39mjoin(destination_dir, file)\n\u001b[0;32m---> 16\u001b[0m \u001b[43mshutil\u001b[49m\u001b[38;5;241;43m.\u001b[39;49m\u001b[43mcopy2\u001b[49m\u001b[43m(\u001b[49m\u001b[43msource_file\u001b[49m\u001b[43m,\u001b[49m\u001b[43m \u001b[49m\u001b[43mdestination_file\u001b[49m\u001b[43m)\u001b[49m\n\u001b[1;32m     17\u001b[0m \u001b[38;5;28mprint\u001b[39m(\u001b[38;5;124mf\u001b[39m\u001b[38;5;124m\"\u001b[39m\u001b[38;5;124mCopied \u001b[39m\u001b[38;5;124m'\u001b[39m\u001b[38;5;132;01m{\u001b[39;00msource_file\u001b[38;5;132;01m}\u001b[39;00m\u001b[38;5;124m'\u001b[39m\u001b[38;5;124m to \u001b[39m\u001b[38;5;124m'\u001b[39m\u001b[38;5;132;01m{\u001b[39;00mdestination_file\u001b[38;5;132;01m}\u001b[39;00m\u001b[38;5;124m'\u001b[39m\u001b[38;5;124m\"\u001b[39m)\n",
      "File \u001b[0;32m~/.conda/envs/env_tf/lib/python3.10/shutil.py:434\u001b[0m, in \u001b[0;36mcopy2\u001b[0;34m(src, dst, follow_symlinks)\u001b[0m\n\u001b[1;32m    432\u001b[0m \u001b[38;5;28;01mif\u001b[39;00m os\u001b[38;5;241m.\u001b[39mpath\u001b[38;5;241m.\u001b[39misdir(dst):\n\u001b[1;32m    433\u001b[0m     dst \u001b[38;5;241m=\u001b[39m os\u001b[38;5;241m.\u001b[39mpath\u001b[38;5;241m.\u001b[39mjoin(dst, os\u001b[38;5;241m.\u001b[39mpath\u001b[38;5;241m.\u001b[39mbasename(src))\n\u001b[0;32m--> 434\u001b[0m \u001b[43mcopyfile\u001b[49m\u001b[43m(\u001b[49m\u001b[43msrc\u001b[49m\u001b[43m,\u001b[49m\u001b[43m \u001b[49m\u001b[43mdst\u001b[49m\u001b[43m,\u001b[49m\u001b[43m \u001b[49m\u001b[43mfollow_symlinks\u001b[49m\u001b[38;5;241;43m=\u001b[39;49m\u001b[43mfollow_symlinks\u001b[49m\u001b[43m)\u001b[49m\n\u001b[1;32m    435\u001b[0m copystat(src, dst, follow_symlinks\u001b[38;5;241m=\u001b[39mfollow_symlinks)\n\u001b[1;32m    436\u001b[0m \u001b[38;5;28;01mreturn\u001b[39;00m dst\n",
      "File \u001b[0;32m~/.conda/envs/env_tf/lib/python3.10/shutil.py:269\u001b[0m, in \u001b[0;36mcopyfile\u001b[0;34m(src, dst, follow_symlinks)\u001b[0m\n\u001b[1;32m    267\u001b[0m         _fastcopy_sendfile(fsrc, fdst)\n\u001b[1;32m    268\u001b[0m         \u001b[38;5;28;01mreturn\u001b[39;00m dst\n\u001b[0;32m--> 269\u001b[0m     \u001b[38;5;28;01mexcept\u001b[39;00m _GiveupOnFastCopy:\n\u001b[1;32m    270\u001b[0m         \u001b[38;5;28;01mpass\u001b[39;00m\n\u001b[1;32m    271\u001b[0m \u001b[38;5;66;03m# Windows, see:\u001b[39;00m\n\u001b[1;32m    272\u001b[0m \u001b[38;5;66;03m# https://github.com/python/cpython/pull/7160#discussion_r195405230\u001b[39;00m\n",
      "\u001b[0;31mKeyboardInterrupt\u001b[0m: "
     ]
    }
   ],
   "source": [
    "import os\n",
    "import shutil\n",
    "\n",
    "def copy_files(source_dir, destination_dir):\n",
    "    # Create the destination directory if it doesn't exist\n",
    "    if not os.path.exists(destination_dir):\n",
    "        os.makedirs(destination_dir)\n",
    "\n",
    "    # Get a list of all files in the source directory\n",
    "    files = os.listdir(source_dir)\n",
    "\n",
    "    # Copy each file to the destination directory\n",
    "    for file in files:\n",
    "        source_file = os.path.join(source_dir, file)\n",
    "        destination_file = os.path.join(destination_dir, file)\n",
    "        shutil.copy2(source_file, destination_file)\n",
    "        print(f\"Copied '{source_file}' to '{destination_file}'\")\n",
    "\n",
    "# Example usage\n",
    "source_directory = '/user1/ngmm/tr855969/Desktop/Taiabur/ngmm-nnunet/dataset/nnUNet_results/Dataset002_HCFC1/nnUNetTrainer__nnUNetPlans__3d_lowres/fold_1/validation/'\n",
    "destination_directory = '/work/shared/ngmm/3Dimage/DL_test/validation/'\n",
    "\n",
    "copy_files(source_directory, destination_directory)\n"
   ]
  },
  {
   "cell_type": "code",
   "execution_count": 3,
   "metadata": {},
   "outputs": [
    {
     "name": "stdout",
     "output_type": "stream",
     "text": [
      "Copied '/user1/ngmm/tr855969/Desktop/Taiabur/ngmm-nnunet/dataset/nnUNet_results/Dataset002_HCFC1/nnUNetTrainer__nnUNetPlans__3d_lowres/fold_1/validation/NG4115_RCL5.nii.gz' to '/work/shared/ngmm/3Dimage/DL_test/validation/NG4115_RCL5.nii.gz'\n"
     ]
    }
   ],
   "source": [
    "source_file = '/user1/ngmm/tr855969/Desktop/Taiabur/ngmm-nnunet/dataset/nnUNet_results/Dataset002_HCFC1/nnUNetTrainer__nnUNetPlans__3d_lowres/fold_1/validation/NG4115_RCL5.nii.gz'\n",
    "destination_file = '/work/shared/ngmm/3Dimage/DL_test/validation/NG4115_RCL5.nii.gz'\n",
    "import os\n",
    "import shutil\n",
    "shutil.copy2(source_file, destination_file)\n",
    "print(f\"Copied '{source_file}' to '{destination_file}'\")\n"
   ]
  }
 ],
 "metadata": {
  "kernelspec": {
   "display_name": "env_tf",
   "language": "python",
   "name": "python3"
  },
  "language_info": {
   "codemirror_mode": {
    "name": "ipython",
    "version": 3
   },
   "file_extension": ".py",
   "mimetype": "text/x-python",
   "name": "python",
   "nbconvert_exporter": "python",
   "pygments_lexer": "ipython3",
   "version": "3.10.13"
  }
 },
 "nbformat": 4,
 "nbformat_minor": 2
}

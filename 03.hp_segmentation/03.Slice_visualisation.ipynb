{
 "cells": [
  {
   "cell_type": "code",
   "execution_count": 5,
   "metadata": {},
   "outputs": [
    {
     "data": {
      "application/vnd.jupyter.widget-view+json": {
       "model_id": "c0f69e1418cd43fb8f8835dd53df020a",
       "version_major": 2,
       "version_minor": 0
      },
      "text/plain": [
       "interactive(children=(IntSlider(value=199, description='Slice', max=398), Output()), _dom_classes=('widget-int…"
      ]
     },
     "execution_count": 5,
     "metadata": {},
     "output_type": "execute_result"
    }
   ],
   "source": [
    "import nibabel as nib\n",
    "import numpy as np\n",
    "import matplotlib.pyplot as plt\n",
    "import ipywidgets as widgets\n",
    "from IPython.display import display\n",
    "\n",
    "# Load the NIfTI file\n",
    "nifti_path = 'C:/Users/Taiabur/Desktop/datathon/Dataset002_HCFC1/imagesTr/NG4109_RCL5_0000.nii.gz'\n",
    "img = nib.load(nifti_path)\n",
    "data = img.get_fdata()\n",
    "\n",
    "# Adjusted function to display a slice and its histogram\n",
    "def display_slice_and_histogram(slice_no):\n",
    "    # Setup the figure and axes for a side-by-side plot: slice and histogram\n",
    "    fig, axes = plt.subplots(2, 2, figsize=(16, 8))\n",
    "    \n",
    "    # Display the slice\n",
    "    ax = axes[0,0]\n",
    "    ax.imshow(data[:, :, slice_no])\n",
    "    ax.axis('off')  # Hide axes ticks\n",
    "    ax.set_title(f'Slice {slice_no}')\n",
    "    \n",
    "    # Display the histogram\n",
    "    ax = axes[0,1]\n",
    "    slice_data = data[:, :, slice_no].ravel()\n",
    "    ax.hist(slice_data, bins=50, color='c', alpha=0.75)\n",
    "    ax.set_title('Pixel Intensity Distribution')\n",
    "    ax.grid(True)\n",
    "\n",
    "    ax = axes[1,0]\n",
    "    ax.imshow(data[:, slice_no,: ].T)\n",
    "    ax.axis('off')  # Hide axes ticks\n",
    "    ax.set_title(f'Slice {slice_no}')\n",
    "\n",
    "    ax = axes[1,1]\n",
    "    ax.imshow(data[slice_no, :,: ])\n",
    "    ax.axis('off')  # Hide axes ticks\n",
    "    ax.set_title(f'Slice {slice_no}')\n",
    "    \n",
    "    plt.tight_layout()\n",
    "    plt.show()\n",
    "\n",
    "# Interactive widget for slice selection\n",
    "slice_slider = widgets.IntSlider(\n",
    "    min=0, \n",
    "    max=data.shape[2] - 1, \n",
    "    step=1, \n",
    "    value=data.shape[2] // 2, \n",
    "    description='Slice'\n",
    ")\n",
    "\n",
    "widgets.interactive(display_slice_and_histogram, slice_no=slice_slider)\n"
   ]
  },
  {
   "cell_type": "code",
   "execution_count": 3,
   "metadata": {},
   "outputs": [
    {
     "name": "stdout",
     "output_type": "stream",
     "text": [
      "Collecting nibabel\n",
      "  Using cached nibabel-5.2.1-py3-none-any.whl.metadata (8.8 kB)\n",
      "Requirement already satisfied: numpy in c:\\users\\taiabur\\appdata\\local\\programs\\python\\python311\\lib\\site-packages (1.26.4)\n",
      "Requirement already satisfied: matplotlib in c:\\users\\taiabur\\appdata\\local\\programs\\python\\python311\\lib\\site-packages (3.8.3)\n",
      "Requirement already satisfied: packaging>=17 in c:\\users\\taiabur\\appdata\\roaming\\python\\python311\\site-packages (from nibabel) (23.2)\n",
      "Requirement already satisfied: contourpy>=1.0.1 in c:\\users\\taiabur\\appdata\\local\\programs\\python\\python311\\lib\\site-packages (from matplotlib) (1.2.0)\n",
      "Requirement already satisfied: cycler>=0.10 in c:\\users\\taiabur\\appdata\\local\\programs\\python\\python311\\lib\\site-packages (from matplotlib) (0.12.1)\n",
      "Requirement already satisfied: fonttools>=4.22.0 in c:\\users\\taiabur\\appdata\\local\\programs\\python\\python311\\lib\\site-packages (from matplotlib) (4.49.0)\n",
      "Requirement already satisfied: kiwisolver>=1.3.1 in c:\\users\\taiabur\\appdata\\local\\programs\\python\\python311\\lib\\site-packages (from matplotlib) (1.4.5)\n",
      "Requirement already satisfied: pillow>=8 in c:\\users\\taiabur\\appdata\\local\\programs\\python\\python311\\lib\\site-packages (from matplotlib) (10.2.0)\n",
      "Requirement already satisfied: pyparsing>=2.3.1 in c:\\users\\taiabur\\appdata\\local\\programs\\python\\python311\\lib\\site-packages (from matplotlib) (3.1.2)\n",
      "Requirement already satisfied: python-dateutil>=2.7 in c:\\users\\taiabur\\appdata\\roaming\\python\\python311\\site-packages (from matplotlib) (2.9.0.post0)\n",
      "Requirement already satisfied: six>=1.5 in c:\\users\\taiabur\\appdata\\roaming\\python\\python311\\site-packages (from python-dateutil>=2.7->matplotlib) (1.16.0)\n",
      "Using cached nibabel-5.2.1-py3-none-any.whl (3.3 MB)\n",
      "Installing collected packages: nibabel\n",
      "Successfully installed nibabel-5.2.1\n",
      "Note: you may need to restart the kernel to use updated packages.\n"
     ]
    }
   ],
   "source": [
    "pip install nibabel numpy  matplotlib"
   ]
  }
 ],
 "metadata": {
  "kernelspec": {
   "display_name": "Python 3",
   "language": "python",
   "name": "python3"
  },
  "language_info": {
   "codemirror_mode": {
    "name": "ipython",
    "version": 3
   },
   "file_extension": ".py",
   "mimetype": "text/x-python",
   "name": "python",
   "nbconvert_exporter": "python",
   "pygments_lexer": "ipython3",
   "version": "3.11.8"
  }
 },
 "nbformat": 4,
 "nbformat_minor": 2
}

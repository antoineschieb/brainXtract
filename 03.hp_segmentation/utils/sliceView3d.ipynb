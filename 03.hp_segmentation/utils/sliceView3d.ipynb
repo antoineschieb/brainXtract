{
 "cells": [
  {
   "cell_type": "markdown",
   "metadata": {},
   "source": [
    "Install the required Python packages using pip:\n"
   ]
  },
  {
   "cell_type": "code",
   "execution_count": 5,
   "metadata": {},
   "outputs": [
    {
     "name": "stdout",
     "output_type": "stream",
     "text": [
      "Requirement already satisfied: ipywidgets in /user1/ngmm/tr855969/.conda/envs/env_tf/lib/python3.10/site-packages (8.0.4)\n",
      "Requirement already satisfied: ipyvolume in /user1/ngmm/tr855969/.conda/envs/env_tf/lib/python3.10/site-packages (0.6.3)\n",
      "Requirement already satisfied: matplotlib in /user1/ngmm/tr855969/.local/lib/python3.10/site-packages (3.8.2)\n",
      "Requirement already satisfied: ipykernel>=4.5.1 in /user1/ngmm/tr855969/.local/lib/python3.10/site-packages (from ipywidgets) (6.27.1)\n",
      "Requirement already satisfied: ipython>=6.1.0 in /user1/ngmm/tr855969/.local/lib/python3.10/site-packages (from ipywidgets) (8.19.0)\n",
      "Requirement already satisfied: traitlets>=4.3.1 in /user1/ngmm/tr855969/.local/lib/python3.10/site-packages (from ipywidgets) (5.14.0)\n",
      "Requirement already satisfied: widgetsnbextension~=4.0 in /user1/ngmm/tr855969/.conda/envs/env_tf/lib/python3.10/site-packages (from ipywidgets) (4.0.5)\n",
      "Requirement already satisfied: jupyterlab-widgets~=3.0 in /user1/ngmm/tr855969/.conda/envs/env_tf/lib/python3.10/site-packages (from ipywidgets) (3.0.9)\n",
      "Requirement already satisfied: bqplot in /user1/ngmm/tr855969/.conda/envs/env_tf/lib/python3.10/site-packages (from ipyvolume) (0.12.43)\n",
      "Requirement already satisfied: numpy in /user1/ngmm/tr855969/.local/lib/python3.10/site-packages (from ipyvolume) (1.26.2)\n",
      "Requirement already satisfied: traittypes in /user1/ngmm/tr855969/.conda/envs/env_tf/lib/python3.10/site-packages (from ipyvolume) (0.2.1)\n",
      "Requirement already satisfied: Pillow in /user1/ngmm/tr855969/.local/lib/python3.10/site-packages (from ipyvolume) (10.1.0)\n",
      "Requirement already satisfied: ipywebrtc in /user1/ngmm/tr855969/.conda/envs/env_tf/lib/python3.10/site-packages (from ipyvolume) (0.6.0)\n",
      "Requirement already satisfied: requests in /user1/ngmm/tr855969/.local/lib/python3.10/site-packages (from ipyvolume) (2.31.0)\n",
      "Requirement already satisfied: ipyvuetify in /user1/ngmm/tr855969/.conda/envs/env_tf/lib/python3.10/site-packages (from ipyvolume) (1.9.3)\n",
      "Requirement already satisfied: ipyvue>=1.7.0 in /user1/ngmm/tr855969/.conda/envs/env_tf/lib/python3.10/site-packages (from ipyvolume) (1.10.2)\n",
      "Requirement already satisfied: pythreejs>=2.4.0 in /user1/ngmm/tr855969/.conda/envs/env_tf/lib/python3.10/site-packages (from ipyvolume) (2.4.2)\n",
      "Requirement already satisfied: contourpy>=1.0.1 in /user1/ngmm/tr855969/.local/lib/python3.10/site-packages (from matplotlib) (1.2.0)\n",
      "Requirement already satisfied: cycler>=0.10 in /user1/ngmm/tr855969/.local/lib/python3.10/site-packages (from matplotlib) (0.12.1)\n",
      "Requirement already satisfied: fonttools>=4.22.0 in /user1/ngmm/tr855969/.local/lib/python3.10/site-packages (from matplotlib) (4.47.0)\n",
      "Requirement already satisfied: kiwisolver>=1.3.1 in /user1/ngmm/tr855969/.local/lib/python3.10/site-packages (from matplotlib) (1.4.5)\n",
      "Requirement already satisfied: packaging>=20.0 in /user1/ngmm/tr855969/.local/lib/python3.10/site-packages (from matplotlib) (23.2)\n",
      "Requirement already satisfied: pyparsing>=2.3.1 in /user1/ngmm/tr855969/.local/lib/python3.10/site-packages (from matplotlib) (3.1.1)\n",
      "Requirement already satisfied: python-dateutil>=2.7 in /user1/ngmm/tr855969/.local/lib/python3.10/site-packages (from matplotlib) (2.9.0)\n",
      "Requirement already satisfied: comm>=0.1.1 in /user1/ngmm/tr855969/.local/lib/python3.10/site-packages (from ipykernel>=4.5.1->ipywidgets) (0.2.0)\n",
      "Requirement already satisfied: debugpy>=1.6.5 in /user1/ngmm/tr855969/.local/lib/python3.10/site-packages (from ipykernel>=4.5.1->ipywidgets) (1.8.0)\n",
      "Requirement already satisfied: jupyter-client>=6.1.12 in /user1/ngmm/tr855969/.local/lib/python3.10/site-packages (from ipykernel>=4.5.1->ipywidgets) (8.6.0)\n",
      "Requirement already satisfied: jupyter-core!=5.0.*,>=4.12 in /user1/ngmm/tr855969/.local/lib/python3.10/site-packages (from ipykernel>=4.5.1->ipywidgets) (5.5.1)\n",
      "Requirement already satisfied: matplotlib-inline>=0.1 in /user1/ngmm/tr855969/.conda/envs/env_tf/lib/python3.10/site-packages (from ipykernel>=4.5.1->ipywidgets) (0.1.6)\n",
      "Requirement already satisfied: nest-asyncio in /user1/ngmm/tr855969/.local/lib/python3.10/site-packages (from ipykernel>=4.5.1->ipywidgets) (1.5.8)\n",
      "Requirement already satisfied: psutil in /user1/ngmm/tr855969/.local/lib/python3.10/site-packages (from ipykernel>=4.5.1->ipywidgets) (5.9.7)\n",
      "Requirement already satisfied: pyzmq>=20 in /user1/ngmm/tr855969/.local/lib/python3.10/site-packages (from ipykernel>=4.5.1->ipywidgets) (25.1.2)\n",
      "Requirement already satisfied: tornado>=6.1 in /user1/ngmm/tr855969/.local/lib/python3.10/site-packages (from ipykernel>=4.5.1->ipywidgets) (6.4)\n",
      "Requirement already satisfied: decorator in /user1/ngmm/tr855969/.conda/envs/env_tf/lib/python3.10/site-packages (from ipython>=6.1.0->ipywidgets) (5.1.1)\n",
      "Requirement already satisfied: jedi>=0.16 in /user1/ngmm/tr855969/.local/lib/python3.10/site-packages (from ipython>=6.1.0->ipywidgets) (0.19.1)\n",
      "Requirement already satisfied: prompt-toolkit<3.1.0,>=3.0.41 in /user1/ngmm/tr855969/.local/lib/python3.10/site-packages (from ipython>=6.1.0->ipywidgets) (3.0.43)\n",
      "Requirement already satisfied: pygments>=2.4.0 in /user1/ngmm/tr855969/.local/lib/python3.10/site-packages (from ipython>=6.1.0->ipywidgets) (2.17.2)\n",
      "Requirement already satisfied: stack-data in /user1/ngmm/tr855969/.local/lib/python3.10/site-packages (from ipython>=6.1.0->ipywidgets) (0.6.3)\n",
      "Requirement already satisfied: exceptiongroup in /user1/ngmm/tr855969/.local/lib/python3.10/site-packages (from ipython>=6.1.0->ipywidgets) (1.2.0)\n",
      "Requirement already satisfied: pexpect>4.3 in /user1/ngmm/tr855969/.local/lib/python3.10/site-packages (from ipython>=6.1.0->ipywidgets) (4.9.0)\n",
      "Requirement already satisfied: six>=1.5 in /user1/ngmm/tr855969/.conda/envs/env_tf/lib/python3.10/site-packages (from python-dateutil>=2.7->matplotlib) (1.16.0)\n",
      "Requirement already satisfied: ipydatawidgets>=1.1.1 in /user1/ngmm/tr855969/.conda/envs/env_tf/lib/python3.10/site-packages (from pythreejs>=2.4.0->ipyvolume) (4.3.5)\n",
      "Requirement already satisfied: pandas<3.0.0,>=1.0.0 in /user1/ngmm/tr855969/.conda/envs/env_tf/lib/python3.10/site-packages (from bqplot->ipyvolume) (2.2.1)\n",
      "Requirement already satisfied: charset-normalizer<4,>=2 in /user1/ngmm/tr855969/.local/lib/python3.10/site-packages (from requests->ipyvolume) (3.3.2)\n",
      "Requirement already satisfied: idna<4,>=2.5 in /user1/ngmm/tr855969/.local/lib/python3.10/site-packages (from requests->ipyvolume) (3.6)\n",
      "Requirement already satisfied: urllib3<3,>=1.21.1 in /user1/ngmm/tr855969/.local/lib/python3.10/site-packages (from requests->ipyvolume) (2.1.0)\n",
      "Requirement already satisfied: certifi>=2017.4.17 in /user1/ngmm/tr855969/.local/lib/python3.10/site-packages (from requests->ipyvolume) (2023.11.17)\n",
      "Requirement already satisfied: parso<0.9.0,>=0.8.3 in /user1/ngmm/tr855969/.conda/envs/env_tf/lib/python3.10/site-packages (from jedi>=0.16->ipython>=6.1.0->ipywidgets) (0.8.3)\n",
      "Requirement already satisfied: platformdirs>=2.5 in /user1/ngmm/tr855969/.local/lib/python3.10/site-packages (from jupyter-core!=5.0.*,>=4.12->ipykernel>=4.5.1->ipywidgets) (4.1.0)\n",
      "Requirement already satisfied: pytz>=2020.1 in /user1/ngmm/tr855969/.conda/envs/env_tf/lib/python3.10/site-packages (from pandas<3.0.0,>=1.0.0->bqplot->ipyvolume) (2023.3.post1)\n",
      "Requirement already satisfied: tzdata>=2022.7 in /user1/ngmm/tr855969/.conda/envs/env_tf/lib/python3.10/site-packages (from pandas<3.0.0,>=1.0.0->bqplot->ipyvolume) (2024.1)\n",
      "Requirement already satisfied: ptyprocess>=0.5 in /user1/ngmm/tr855969/.conda/envs/env_tf/lib/python3.10/site-packages (from pexpect>4.3->ipython>=6.1.0->ipywidgets) (0.7.0)\n",
      "Requirement already satisfied: wcwidth in /user1/ngmm/tr855969/.local/lib/python3.10/site-packages (from prompt-toolkit<3.1.0,>=3.0.41->ipython>=6.1.0->ipywidgets) (0.2.12)\n",
      "Requirement already satisfied: executing>=1.2.0 in /user1/ngmm/tr855969/.local/lib/python3.10/site-packages (from stack-data->ipython>=6.1.0->ipywidgets) (2.0.1)\n",
      "Requirement already satisfied: asttokens>=2.1.0 in /user1/ngmm/tr855969/.local/lib/python3.10/site-packages (from stack-data->ipython>=6.1.0->ipywidgets) (2.4.1)\n",
      "Requirement already satisfied: pure-eval in /user1/ngmm/tr855969/.conda/envs/env_tf/lib/python3.10/site-packages (from stack-data->ipython>=6.1.0->ipywidgets) (0.2.2)\n"
     ]
    }
   ],
   "source": [
    "!pip install ipywidgets ipyvolume matplotlib\n"
   ]
  },
  {
   "cell_type": "code",
   "execution_count": 9,
   "metadata": {},
   "outputs": [
    {
     "data": {
      "application/vnd.jupyter.widget-view+json": {
       "model_id": "637b1e8f7892428bbd7ffee8cb2287aa",
       "version_major": 2,
       "version_minor": 0
      },
      "text/plain": [
       "interactive(children=(IntSlider(value=177, description='Slice', max=353), Output()), _dom_classes=('widget-int…"
      ]
     },
     "execution_count": 9,
     "metadata": {},
     "output_type": "execute_result"
    }
   ],
   "source": [
    "import nibabel as nib\n",
    "import numpy as np\n",
    "import matplotlib.pyplot as plt\n",
    "import ipywidgets as widgets\n",
    "from IPython.display import display\n",
    "\n",
    "# Load the NIfTI file\n",
    "nifti_path = '/user1/ngmm/tr855969/Desktop/Taiabur/ngmm-nnunet/dataset/nnUNet_results/Dataset001_Wdr47Kusss/nnUNetTrainer__nnUNetPlans__3d_fullres/fold_0/validation/Wdr47Kusss_NG_2603.nii.gz'\n",
    "org_nifti_path = '/user1/ngmm/tr855969/Desktop/Taiabur/ngmm-nnunet/dataset/nnUNet_raw_data/Dataset001_Wdr47Kusss/imagesTr/Wdr47Kusss_NG_2603_0000.nii.gz'\n",
    "img = nib.load(nifti_path)\n",
    "data = img.get_fdata()\n",
    "\n",
    "org_img = nib.load(org_nifti_path).get_fdata()\n",
    "\n",
    "data = org_img * data\n",
    "# Adjusted function to display a slice and its histogram\n",
    "def display_slice_and_histogram(slice_no):\n",
    "    # Setup the figure and axes for a side-by-side plot: slice and histogram\n",
    "    fig, axes = plt.subplots(2, 2, figsize=(16, 8))\n",
    "    fig.suptitle('Mouse Brain: 3D Volume Visualization')\n",
    "    # Display the slice\n",
    "    ax = axes[0,0]\n",
    "    ax.imshow(data[:, :, slice_no], cmap='gray')\n",
    "    ax.axis('off')  # Hide axes ticks\n",
    "    ax.set_title(f'Slice {slice_no}')\n",
    "    \n",
    "    # Display the histogram\n",
    "    ax = axes[0,1]\n",
    "    slice_data = data[:, :, slice_no].ravel()\n",
    "    ax.hist(slice_data, bins=50, color='c', alpha=0.75)\n",
    "    ax.set_title('Pixel Intensity Distribution')\n",
    "    ax.grid(True)\n",
    "\n",
    "    ax = axes[1,0]\n",
    "    ax.imshow(data[:, slice_no,: ], cmap='gray')\n",
    "    ax.axis('off')  # Hide axes ticks\n",
    "    ax.set_title(f'Slice {slice_no}')\n",
    "\n",
    "    ax = axes[1,1]\n",
    "    ax.imshow(data[slice_no, :,: ], cmap='gray')\n",
    "    ax.axis('off')  # Hide axes ticks\n",
    "    ax.set_title(f'Slice {slice_no}')\n",
    "    \n",
    "    plt.tight_layout()\n",
    "    plt.show()\n",
    "\n",
    "# Interactive widget for slice selection\n",
    "slice_slider = widgets.IntSlider(\n",
    "    min=0, \n",
    "    max=data.shape[2] - 1, \n",
    "    step=1, \n",
    "    value=data.shape[2] // 2, \n",
    "    description='Slice'\n",
    ")\n",
    "\n",
    "widgets.interactive(display_slice_and_histogram, slice_no=slice_slider)\n"
   ]
  }
 ],
 "metadata": {
  "kernelspec": {
   "display_name": "env_tf",
   "language": "python",
   "name": "python3"
  },
  "language_info": {
   "codemirror_mode": {
    "name": "ipython",
    "version": 3
   },
   "file_extension": ".py",
   "mimetype": "text/x-python",
   "name": "python",
   "nbconvert_exporter": "python",
   "pygments_lexer": "ipython3",
   "version": "3.10.13"
  }
 },
 "nbformat": 4,
 "nbformat_minor": 2
}
